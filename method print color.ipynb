{
 "cells": [
  {
   "cell_type": "code",
   "execution_count": 29,
   "id": "83be7d4e",
   "metadata": {},
   "outputs": [
    {
     "name": "stdout",
     "output_type": "stream",
     "text": [
      "blue\n",
      "[1370 1210 1160 1065 1010  945  830]\n",
      "[685.  605.  580.  532.5 505.  472.5 415. ]\n",
      "[620, 590, 570, 495, 490, 450, 380]\n"
     ]
    }
   ],
   "source": [
    "import numpy as np\n",
    "\n",
    "peak_1 = 472\n",
    "\n",
    "color = ['red', 'orange','yellow','green','cyan','blue','violet']\n",
    "wavelength_max = [750,620,590,570,520,495,450]\n",
    "wavelength_min = [620,590,570,495,490,450,380]\n",
    "\n",
    "for x in [0,1,2,3,4,5,6]:\n",
    "    if peak_1 > wavelength_min[x] and peak_1 < wavelength_max[x]:\n",
    "        print(color[x])\n",
    "\n",
    "print(wavelength_sum)\n",
    "print(wavelength_mean)\n",
    "print(list_2)\n",
    "#for x in wavelength_sum"
   ]
  },
  {
   "cell_type": "code",
   "execution_count": null,
   "id": "5ddd7c85",
   "metadata": {},
   "outputs": [],
   "source": []
  },
  {
   "cell_type": "code",
   "execution_count": null,
   "id": "6a8d122d",
   "metadata": {},
   "outputs": [],
   "source": []
  },
  {
   "cell_type": "code",
   "execution_count": null,
   "id": "8d0e4551",
   "metadata": {},
   "outputs": [],
   "source": []
  },
  {
   "cell_type": "code",
   "execution_count": null,
   "id": "e6313eea",
   "metadata": {},
   "outputs": [],
   "source": []
  }
 ],
 "metadata": {
  "kernelspec": {
   "display_name": "Python 3 (clean)",
   "language": "python",
   "name": "python3_clean"
  },
  "language_info": {
   "codemirror_mode": {
    "name": "ipython",
    "version": 3
   },
   "file_extension": ".py",
   "mimetype": "text/x-python",
   "name": "python",
   "nbconvert_exporter": "python",
   "pygments_lexer": "ipython3",
   "version": "3.9.5"
  }
 },
 "nbformat": 4,
 "nbformat_minor": 5
}
