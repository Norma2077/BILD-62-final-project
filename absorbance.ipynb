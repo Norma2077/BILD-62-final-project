{
 "cells": [
  {
   "cell_type": "code",
   "execution_count": 3,
   "id": "7b733b16",
   "metadata": {},
   "outputs": [],
   "source": [
    "import numpy as np\n",
    "def absorbancecurve(x):\n",
    "    mean=np.mean(x)\n",
    "    std=np.std(x)\n",
    "    y= 1/(std * np.sqrt(2 * np.pi)) * np.exp( - (x - mean)**2 / (2 * std**2))\n",
    "    return y\n"
   ]
  },
  {
   "cell_type": "code",
   "execution_count": null,
   "id": "7bef28a4",
   "metadata": {},
   "outputs": [],
   "source": []
  }
 ],
 "metadata": {
  "kernelspec": {
   "display_name": "Python 3 (clean)",
   "language": "python",
   "name": "python3_clean"
  },
  "language_info": {
   "codemirror_mode": {
    "name": "ipython",
    "version": 3
   },
   "file_extension": ".py",
   "mimetype": "text/x-python",
   "name": "python",
   "nbconvert_exporter": "python",
   "pygments_lexer": "ipython3",
   "version": "3.9.5"
  }
 },
 "nbformat": 4,
 "nbformat_minor": 5
}
