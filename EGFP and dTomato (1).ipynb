{
 "cells": [
  {
   "cell_type": "code",
   "execution_count": 8,
   "id": "1c0d82dd",
   "metadata": {},
   "outputs": [
    {
     "data": {
      "image/png": "[encoded data removed]",
      "text/plain": [
       "<Figure size 432x288 with 1 Axes>"
      ]
     },
     "metadata": {
      "needs_background": "light"
     },
     "output_type": "display_data"
    }
   ],
   "source": [
    "import numpy as np\n",
    "import pandas as pd\n",
    "import matplotlib.pyplot as plt\n",
    "a = 0.5\n",
    "\n",
    "random_normal_EGFP = np.random.normal(loc=507, scale= 15,size=1000)\n",
    "plt.hist(random_normal_EGFP,bins=100,color=[1,0,0,a])\n",
    "random_normal_dTomato = np.random.normal(loc=554, scale= 15,size=1000)\n",
    "plt.hist(random_normal_dTomato,bins=100,color=[0,0,1,a])\n",
    "\n",
    "plt.show()\n",
    "\n",
    "EGFP_emission_max = pd.DataFrame(random_normal_EGFP)\n",
    "EGFP_emission_max.to_csv('EGFP_emission_max.csv', index=False, header=None)\n",
    "dTomato_excitation_max =pd.DataFrame(random_normal_dTomato)\n",
    "dTomato_excitation_max.to_csv('dTomato_excitation_max.csv', index=False, header=None)\n",
    "\n"
   ]
  },
  {
   "cell_type": "code",
   "execution_count": null,
   "id": "bfb01be3",
   "metadata": {},
   "outputs": [],
   "source": []
  }
 ],
 "metadata": {
  "kernelspec": {
   "display_name": "Python 3 (clean)",
   "language": "python",
   "name": "python3_clean"
  },
  "language_info": {
   "codemirror_mode": {
    "name": "ipython",
    "version": 3
   },
   "file_extension": ".py",
   "mimetype": "text/x-python",
   "name": "python",
   "nbconvert_exporter": "python",
   "pygments_lexer": "ipython3",
   "version": "3.9.5"
  }
 },
 "nbformat": 4,
 "nbformat_minor": 5
}
