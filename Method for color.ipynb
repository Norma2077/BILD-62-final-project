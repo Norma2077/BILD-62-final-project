{
 "cells": [
  {
   "cell_type": "code",
   "execution_count": 32,
   "id": "9281ddc1",
   "metadata": {},
   "outputs": [
    {
     "name": "stdout",
     "output_type": "stream",
     "text": [
      "blue\n",
      "yellow\n"
     ]
    }
   ],
   "source": [
    "peak_1 = 472\n",
    "peak_2 = 573\n",
    "\n",
    "color = ['red', 'orange','yellow','green','cyan','blue','violet']\n",
    "wavelength_max = [750,620,590,570,520,495,450]\n",
    "wavelength_min = [620,590,570,495,490,450,380]\n",
    "\n",
    "for x in [0,1,2,3,4,5,6]:\n",
    "    if peak_1 > wavelength_min[x] and peak_1 < wavelength_max[x]:\n",
    "        print(color[x])\n",
    "        \n",
    "for x in [0,1,2,3,4,5,6]:\n",
    "    if peak_2 > wavelength_min[x] and peak_2 < wavelength_max[x]:\n",
    "        print(color[x])"
   ]
  },
  {
   "cell_type": "code",
   "execution_count": null,
   "id": "ecdde812",
   "metadata": {},
   "outputs": [],
   "source": []
  },
  {
   "cell_type": "code",
   "execution_count": null,
   "id": "f61720be",
   "metadata": {},
   "outputs": [],
   "source": []
  },
  {
   "cell_type": "code",
   "execution_count": null,
   "id": "609509f3",
   "metadata": {},
   "outputs": [],
   "source": []
  },
  {
   "cell_type": "code",
   "execution_count": null,
   "id": "4da69256",
   "metadata": {},
   "outputs": [],
   "source": []
  }
 ],
 "metadata": {
  "kernelspec": {
   "display_name": "Python 3 (clean)",
   "language": "python",
   "name": "python3_clean"
  },
  "language_info": {
   "codemirror_mode": {
    "name": "ipython",
    "version": 3
   },
   "file_extension": ".py",
   "mimetype": "text/x-python",
   "name": "python",
   "nbconvert_exporter": "python",
   "pygments_lexer": "ipython3",
   "version": "3.9.5"
  }
 },
 "nbformat": 4,
 "nbformat_minor": 5
}
