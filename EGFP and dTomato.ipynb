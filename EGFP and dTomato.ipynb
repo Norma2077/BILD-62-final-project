{
 "cells": [
  {
   "cell_type": "code",
   "execution_count": 7,
   "id": "1c0d82dd",
   "metadata": {},
   "outputs": [
    {
     "data": {
      "image/png": "[encoded data removed]",
      "text/plain": [
       "<Figure size 432x288 with 1 Axes>"
      ]
     },
     "metadata": {
      "needs_background": "light"
     },
     "output_type": "display_data"
    },
    {
     "name": "stdout",
     "output_type": "stream",
     "text": [
      "              0\n",
      "0    499.418775\n",
      "1    502.148688\n",
      "2    533.640275\n",
      "3    523.019991\n",
      "4    507.191865\n",
      "..          ...\n",
      "995  514.528851\n",
      "996  499.528856\n",
      "997  500.618344\n",
      "998  497.663878\n",
      "999  514.488195\n",
      "\n",
      "[1000 rows x 1 columns]\n",
      "              0\n",
      "0    543.635394\n",
      "1    559.235671\n",
      "2    584.846632\n",
      "3    556.128386\n",
      "4    543.329292\n",
      "..          ...\n",
      "995  550.777394\n",
      "996  534.101660\n",
      "997  553.067173\n",
      "998  557.777992\n",
      "999  572.007690\n",
      "\n",
      "[1000 rows x 1 columns]\n"
     ]
    }
   ],
   "source": [
    "import numpy as np\n",
    "import pandas as pd\n",
    "import matplotlib.pyplot as plt\n",
    "a = 0.5\n",
    "\n",
    "random_normal_EGFP = np.random.normal(loc=507, scale= 15,size=1000)\n",
    "plt.hist(random_normal_EGFP,bins=100,color=[1,0,0,a])\n",
    "random_normal_dTomato = np.random.normal(loc=554, scale= 15,size=1000)\n",
    "plt.hist(random_normal_dTomato,bins=100,color=[0,0,1,a])\n",
    "\n",
    "plt.show()\n",
    "\n",
    "EGFP_emission_max = pd.DataFrame(random_normal_EGFP)\n",
    "EGFP_emission_max.to_csv('EGFP_emission_max.csv', index=False, header=None)\n",
    "dTomato_excitation_max =pd.DataFrame(random_normal_dTomato)\n",
    "df_2.to_csv('dTomato_excitation_max.csv', index=False, header=None)\n",
    "\n",
    "print(df_1)\n",
    "print(df_2)"
   ]
  },
  {
   "cell_type": "code",
   "execution_count": null,
   "id": "bfb01be3",
   "metadata": {},
   "outputs": [],
   "source": []
  }
 ],
 "metadata": {
  "kernelspec": {
   "display_name": "Python 3 (clean)",
   "language": "python",
   "name": "python3_clean"
  },
  "language_info": {
   "codemirror_mode": {
    "name": "ipython",
    "version": 3
   },
   "file_extension": ".py",
   "mimetype": "text/x-python",
   "name": "python",
   "nbconvert_exporter": "python",
   "pygments_lexer": "ipython3",
   "version": "3.9.5"
  }
 },
 "nbformat": 4,
 "nbformat_minor": 5
}
