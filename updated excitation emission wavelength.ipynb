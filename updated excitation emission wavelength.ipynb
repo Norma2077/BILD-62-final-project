{
 "cells": [
  {
   "cell_type": "code",
   "execution_count": 5,
   "id": "628d3498",
   "metadata": {},
   "outputs": [
    {
     "data": {
      "image/png": "[encoded data removed]",
      "text/plain": [
       "<Figure size 432x288 with 1 Axes>"
      ]
     },
     "metadata": {
      "needs_background": "light"
     },
     "output_type": "display_data"
    },
    {
     "name": "stdout",
     "output_type": "stream",
     "text": [
      "              0\n",
      "0    529.135419\n",
      "1    495.529421\n",
      "2    525.049469\n",
      "3    500.861683\n",
      "4    516.975460\n",
      "..          ...\n",
      "995  534.649802\n",
      "996  535.779730\n",
      "997  511.065736\n",
      "998  547.761384\n",
      "999  543.580451\n",
      "\n",
      "[1000 rows x 1 columns]\n",
      "              0\n",
      "0    583.468402\n",
      "1    608.829065\n",
      "2    553.007639\n",
      "3    587.046500\n",
      "4    570.661244\n",
      "..          ...\n",
      "995  594.497107\n",
      "996  577.056820\n",
      "997  584.088715\n",
      "998  608.892931\n",
      "999  562.840005\n",
      "\n",
      "[1000 rows x 1 columns]\n"
     ]
    }
   ],
   "source": [
    "#Cell for green and yellow normal distributions\n",
    "#Green - 490 - 570 nm. with mean of 530\n",
    "#Yellow - 570 - 585 nm. with mean of 578\n",
    "\n",
    "import numpy as np\n",
    "import pandas as pd\n",
    "import matplotlib.pyplot as plt\n",
    "a = 0.5\n",
    "\n",
    "random_normal_green = np.random.normal(loc=530, scale= 15,size=1000)\n",
    "plt.hist(random_normal_green,bins=100,color=[1,0,0,a])\n",
    "random_normal_yellow = np.random.normal(loc=578, scale= 15,size=1000)\n",
    "plt.hist(random_normal_yellow,bins=100,color=[0,0,1,a])\n",
    "\n",
    "plt.show()\n",
    "\n",
    "df_1 = pd.DataFrame(random_normal_green)\n",
    "df_1.to_csv('emission wavelength.csv', index=False, header=None)\n",
    "df_2 =pd.DataFrame(random_normal_yellow)\n",
    "df_2.to_csv('excitation wavelength.csv', index=False, header=None)\n",
    "\n",
    "print(df_1)\n",
    "print(df_2)"
   ]
  },
  {
   "cell_type": "code",
   "execution_count": 6,
   "id": "a6ff9654",
   "metadata": {},
   "outputs": [
    {
     "name": "stdout",
     "output_type": "stream",
     "text": [
      "     529.1354185498228\n",
      "0           495.529421\n",
      "1           525.049469\n",
      "2           500.861683\n",
      "3           516.975460\n",
      "4           541.250804\n",
      "..                 ...\n",
      "994         534.649802\n",
      "995         535.779730\n",
      "996         511.065736\n",
      "997         547.761384\n",
      "998         543.580451\n",
      "\n",
      "[999 rows x 1 columns]\n",
      "     583.4684015666463\n",
      "0           608.829065\n",
      "1           553.007639\n",
      "2           587.046500\n",
      "3           570.661244\n",
      "4           587.709425\n",
      "..                 ...\n",
      "994         594.497107\n",
      "995         577.056820\n",
      "996         584.088715\n",
      "997         608.892931\n",
      "998         562.840005\n",
      "\n",
      "[999 rows x 1 columns]\n"
     ]
    }
   ],
   "source": [
    "import pandas as pd\n",
    "\n",
    "\n",
    "df = pd.read_csv('emission wavelength.csv')\n",
    "df_2 = pd.read_csv('excitation wavelength.csv')\n",
    "print(df)\n",
    "print(df_2)"
   ]
  },
  {
   "cell_type": "code",
   "execution_count": null,
   "id": "0b01e9be",
   "metadata": {},
   "outputs": [],
   "source": []
  }
 ],
 "metadata": {
  "kernelspec": {
   "display_name": "Python 3 (clean)",
   "language": "python",
   "name": "python3_clean"
  },
  "language_info": {
   "codemirror_mode": {
    "name": "ipython",
    "version": 3
   },
   "file_extension": ".py",
   "mimetype": "text/x-python",
   "name": "python",
   "nbconvert_exporter": "python",
   "pygments_lexer": "ipython3",
   "version": "3.9.5"
  }
 },
 "nbformat": 4,
 "nbformat_minor": 5
}
